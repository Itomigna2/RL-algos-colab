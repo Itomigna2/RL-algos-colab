{
  "cells": [
    {
      "cell_type": "code",
      "execution_count": null,
      "metadata": {
        "id": "3w04_bU_4H9g"
      },
      "outputs": [],
      "source": [
        "import gym\n",
        "import torch\n",
        "import torch.nn as nn\n",
        "from torch.distributions import Categorical\n",
        "import matplotlib.pyplot as plt\n",
        "!pip install gym[classic_control]\n",
        "!pip install gym[box2d] #for lunarlander\n",
        "!apt update\n",
        "!apt install xvfb\n",
        "!pip install pyvirtualdisplay\n",
        "!pip install gym-notebook-wrapper\n",
        "import gnwrapper\n",
        "!nvidia-smi\n",
        "print(torch.cuda.is_available())"
      ]
    },
    {
      "cell_type": "code",
      "execution_count": null,
      "metadata": {
        "colab": {
          "base_uri": "https://localhost:8080/"
        },
        "id": "kWwb1Cd_gyJn",
        "outputId": "d24bbc66-7810-4f16-da6b-9f4ac6469117"
      },
      "outputs": [],
      "source": [
        "class Agent(nn.Module):\n",
        "    def __init__(self, input_dim, output_dim, width):\n",
        "        super().__init__()\n",
        "        self.P = PolicyNetwork(input_dim, output_dim, width)\n",
        "        self.P.to(device)\n",
        "        self.P.train()  \n",
        "        self.P_optimizer = torch.optim.Adam(self.P.parameters(), lr=0.0003)\n",
        "        self.V = ValueNetwork(input_dim, output_dim, width)\n",
        "        self.V.to(device)        \n",
        "        self.V.train()\n",
        "        self.V_optimizer = torch.optim.Adam(self.V.parameters(), lr=0.0003)  \n",
        "        self.trajectory = []      \n",
        "        self.env = gym.make(game_name)        \n",
        "\n",
        "    def self_play_old_P(self, max_timestep=1000000):\n",
        "        game_score = 0\n",
        "        state = self.env.reset() \n",
        "        for _ in range(max_timestep):               \n",
        "            old_state = state\n",
        "            output = self.P(torch.from_numpy(state).float().to(device)) \n",
        "            inferenced_v = self.V(torch.from_numpy(state).float().to(device))\n",
        "            prob_distribution = Categorical(output)\n",
        "            action = prob_distribution.sample() \n",
        "            state, r, done, _ = self.env.step(action.item()) \n",
        "            with torch.no_grad():\n",
        "                inferenced_v_from_next_s = self.V(torch.from_numpy(state).float().to(device))\n",
        "            if done==True:\n",
        "                inferenced_v_from_next_s = 0\n",
        "            self.trajectory.append((output, r, inferenced_v, inferenced_v_from_next_s, old_state ,action))\n",
        "            game_score += r \n",
        "            if done:\n",
        "                break\n",
        "        return game_score\n",
        "\n",
        "    def update_weights_PPO(self):\n",
        "        for i in range(5): #epoch \n",
        "            ## without minibatch loop now ##\n",
        "            A = 0 #GAE\n",
        "            lam = 0.9  \n",
        "            eps = 0.1      \n",
        "            self.V_optimizer.zero_grad()\n",
        "            self.P_optimizer.zero_grad()\n",
        "            for old_output, r, v, v_next, old_s, old_a in self.trajectory[::-1]: \n",
        "                with torch.no_grad():           \n",
        "                    delta = r + 0.99* v_next - v\n",
        "                    A += (0.99 * lam) * delta  \n",
        "                    V_target = A + v   \n",
        "\n",
        "                v = self.V(torch.from_numpy(old_s).float().to(device))                \n",
        "                V_loss = (V_target.item() - v)**2         \n",
        "                V_loss.backward()          \n",
        "            \n",
        "                output = self.P(torch.from_numpy(old_s).float().to(device))\n",
        "                upper = output.gather(0,old_a)\n",
        "                lower = old_output.gather(0, old_a)                            \n",
        "                probability_ratio = upper / lower.item() \n",
        "                \n",
        "                L_clip = torch.min(\n",
        "                    probability_ratio * A.item(),\n",
        "                    torch.clip(probability_ratio, 1-eps, 1+eps) * A.item()\n",
        "                )\n",
        "                P_loss = -1 * L_clip \n",
        "                P_loss.backward()             \n",
        "            self.V_optimizer.step()   \n",
        "            self.P_optimizer.step()             \n",
        "        self.trajectory.clear() \n",
        "        return \n",
        "   \n",
        "class PolicyNetwork(nn.Module):  \n",
        "    def __init__(self, input_dim, output_dim, width):\n",
        "        super().__init__()\n",
        "        self.layer1 = torch.nn.Linear(input_dim, width)\n",
        "        self.layer2 = torch.nn.Linear(width, width) \n",
        "        self.layer3 = torch.nn.Linear(width, output_dim) \n",
        "\n",
        "    def forward(self, x):\n",
        "        x = self.layer1(x)\n",
        "        x = torch.nn.functional.relu(x)\n",
        "        x = self.layer2(x)\n",
        "        x = torch.nn.functional.relu(x)\n",
        "        x = self.layer3(x)\n",
        "        x = torch.nn.functional.softmax(x, dim=0)\n",
        "        return x\n",
        "\n",
        "class ValueNetwork(nn.Module): \n",
        "    def __init__(self, input_dim, output_dim, width):\n",
        "        super().__init__()\n",
        "        self.layer1 = torch.nn.Linear(input_dim, width)\n",
        "        self.layer2 = torch.nn.Linear(width, width) \n",
        "        self.layer3 = torch.nn.Linear(width, 1) \n",
        "\n",
        "    def forward(self, x):\n",
        "        x = self.layer1(x)\n",
        "        x = torch.nn.functional.relu(x)\n",
        "        x = self.layer2(x)\n",
        "        x = torch.nn.functional.relu(x)\n",
        "        x = self.layer3(x)\n",
        "        return x\n",
        "\n",
        "device = torch.device('cuda:0') if torch.cuda.is_available() else torch.device('cpu')\n",
        "score_arr = []\n",
        "game_name = 'CartPole-v1' #'LunarLander-v2'   \n",
        "env = gym.make(game_name) \n",
        "agent = Agent(env.observation_space.shape[0], env.action_space.n, 128) \n",
        "print(agent)\n",
        "env.close()\n",
        "\n",
        "#Self play, weight update\n",
        "episode_nums = 300\n",
        "for i in range(episode_nums):    \n",
        "    game_score = agent.self_play_old_P()\n",
        "    agent.update_weights_PPO()    \n",
        "    score_arr.append(game_score)  \n",
        "    if i%50==0 : print('episode', i)    \n",
        "torch.save(agent.state_dict(), 'weights.pt') \n",
        "agent.env.close()"
      ]
    },
    {
      "cell_type": "code",
      "execution_count": null,
      "metadata": {
        "colab": {
          "base_uri": "https://localhost:8080/",
          "height": 283
        },
        "id": "_1Cz8LkVy4du",
        "outputId": "21efd51b-8ea2-4593-e0bf-5ba70203b498"
      },
      "outputs": [
        {
          "data": {
            "text/plain": [
              "<matplotlib.legend.Legend at 0x7f59a2d77d50>"
            ]
          },
          "execution_count": 3,
          "metadata": {},
          "output_type": "execute_result"
        },
        {
          "data": {
            "image/png": "[encoded data removed]",
            "text/plain": [
              "<Figure size 432x288 with 1 Axes>"
            ]
          },
          "metadata": {
            "needs_background": "light"
          },
          "output_type": "display_data"
        }
      ],
      "source": [
        "#Score\n",
        "plt.plot(score_arr, label ='score')\n",
        "plt.legend(loc='upper left')"
      ]
    },
    {
      "cell_type": "code",
      "execution_count": null,
      "metadata": {
        "colab": {
          "base_uri": "https://localhost:8080/",
          "height": 982
        },
        "id": "KTGyfRFEzUHG",
        "outputId": "2551fe21-ce01-472b-a76b-0f3c8672210f"
      },
      "outputs": [],
      "source": [
        "#play video\n",
        "agent.load_state_dict(torch.load(\"weights.pt\"))\n",
        "env = gnwrapper.LoopAnimation(gym.make(game_name)) \n",
        "state = env.reset()\n",
        "for _ in range(200):\n",
        "    with torch.no_grad():\n",
        "        output = agent.P(torch.from_numpy(state).float().to(device))\n",
        "        prob_distribution = Categorical(output) \n",
        "        action = prob_distribution.sample() \n",
        "    env.render()\n",
        "    state, rew, done, _ = env.step(action.item())\n",
        "    if done:\n",
        "        state = env.reset()\n",
        "env.display()"
      ]
    }
  ],
  "metadata": {
    "accelerator": "GPU",
    "colab": {
      "provenance": []
    },
    "gpuClass": "standard",
    "kernelspec": {
      "display_name": "Python 3",
      "name": "python3"
    },
    "language_info": {
      "name": "python"
    }
  },
  "nbformat": 4,
  "nbformat_minor": 0
}
