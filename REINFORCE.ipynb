{
  "cells": [
    {
      "cell_type": "code",
      "execution_count": null,
      "metadata": {
        "id": "3w04_bU_4H9g"
      },
      "outputs": [],
      "source": [
        "import gym\n",
        "import torch\n",
        "import torch.nn as nn\n",
        "from torch.distributions import Categorical\n",
        "import matplotlib.pyplot as plt\n",
        "!pip install gym[classic_control]\n",
        "#pip install gym[box2d] #for lunarlander\n",
        "!apt update\n",
        "!apt install xvfb\n",
        "!pip install pyvirtualdisplay\n",
        "!pip install gym-notebook-wrapper\n",
        "import gnwrapper\n",
        "!nvidia-smi\n",
        "print(torch.cuda.is_available())"
      ]
    },
    {
      "cell_type": "code",
      "execution_count": null,
      "metadata": {
        "colab": {
          "base_uri": "https://localhost:8080/"
        },
        "id": "kWwb1Cd_gyJn",
        "outputId": "99763ef9-24e0-4866-e453-c481e90d1bd7"
      },
      "outputs": [],
      "source": [
        "class Agent(nn.Module):\n",
        "    def __init__(self, input_dim, output_dim, width):\n",
        "        super().__init__()\n",
        "        self.model = PolicyNetwork(input_dim, output_dim, width)\n",
        "        self.model.to(device)\n",
        "        self.model.train()\n",
        "        self.optimizer = torch.optim.Adam(self.model.parameters(), lr=0.0003)\n",
        "        self.trajectory = []\n",
        "        self.env = gym.make(\"CartPole-v1\")        \n",
        "\n",
        "    def forward(self, x):\n",
        "        x = self.model(x)\n",
        "        return x\n",
        "\n",
        "    def self_play(self, max_timestep=1000000):\n",
        "        game_score = 0\n",
        "        state = self.env.reset() # env start\n",
        "        for _ in range(max_timestep):\n",
        "            output = self.forward(torch.from_numpy(state).float().to(device)) # inference\n",
        "            prob_distribution = Categorical(output) \n",
        "            action = prob_distribution.sample() \n",
        "            state, r, done, _ = self.env.step(action.item())           \n",
        "            self.trajectory.append((prob_distribution.log_prob(action), r)) \n",
        "            game_score += r \n",
        "            if done:\n",
        "                break\n",
        "        return game_score\n",
        "\n",
        "    def update_weights(self):\n",
        "        self.optimizer.zero_grad()\n",
        "        G_t = 0\n",
        "        for gradient_policy_a_s, r in self.trajectory[::-1]: \n",
        "            G_t = 0.99 * G_t + r\n",
        "            loss = -1 * G_t * gradient_policy_a_s # -1 for gradient ascent\n",
        "            loss.backward()\n",
        "        self.optimizer.step()\n",
        "        self.trajectory.clear()\n",
        "        return\n",
        "\n",
        "class PolicyNetwork(nn.Module):  \n",
        "    def __init__(self, input_dim, output_dim, width):\n",
        "        super().__init__()\n",
        "        self.layer1 = torch.nn.Linear(input_dim, width)\n",
        "        self.layer2 = torch.nn.Linear(width, width) \n",
        "        self.layer3 = torch.nn.Linear(width, output_dim) \n",
        "\n",
        "    def forward(self, x):\n",
        "        x = self.layer1(x)\n",
        "        x = torch.nn.functional.relu(x)\n",
        "        x = self.layer2(x)\n",
        "        x = torch.nn.functional.relu(x)\n",
        "        x = self.layer3(x)\n",
        "        x = torch.nn.functional.softmax(x, dim=0)\n",
        "        return x\n",
        "\n",
        "device = torch.device('cuda:0') if torch.cuda.is_available() else torch.device('cpu')\n",
        "score_arr = []\n",
        "env = gym.make(\"CartPole-v1\") \n",
        "agent = Agent(env.observation_space.shape[0], env.action_space.n, 128) \n",
        "print(agent)\n",
        "env.close()\n",
        "\n",
        "#Self play, weight update\n",
        "episode_nums = 1000\n",
        "for i in range(episode_nums):\n",
        "    game_score = agent.self_play() \n",
        "    score_arr.append(game_score)    \n",
        "    agent.update_weights()       \n",
        "    if i%50==0 : print('episode', i)   \n",
        "torch.save(agent.state_dict(), 'weights.pt') \n",
        "agent.env.close()"
      ]
    },
    {
      "cell_type": "code",
      "execution_count": null,
      "metadata": {
        "colab": {
          "base_uri": "https://localhost:8080/",
          "height": 283
        },
        "id": "_1Cz8LkVy4du",
        "outputId": "2f954398-4377-4291-cbe8-8c0a8bcb964d"
      },
      "outputs": [
        {
          "data": {
            "text/plain": [
              "<matplotlib.legend.Legend at 0x7f6551096f90>"
            ]
          },
          "execution_count": 9,
          "metadata": {},
          "output_type": "execute_result"
        },
        {
          "data": {
            "image/png": "[encoded data removed]",
            "text/plain": [
              "<Figure size 432x288 with 1 Axes>"
            ]
          },
          "metadata": {
            "needs_background": "light"
          },
          "output_type": "display_data"
        }
      ],
      "source": [
        "# Score\n",
        "plt.plot(score_arr, label ='score')\n",
        "plt.legend(loc='upper left')"
      ]
    },
    {
      "cell_type": "code",
      "execution_count": null,
      "metadata": {
        "colab": {
          "base_uri": "https://localhost:8080/",
          "height": 982
        },
        "id": "KTGyfRFEzUHG",
        "outputId": "e3093240-21a8-4cad-ae2c-1c11e792faa9"
      },
      "outputs": [],
      "source": [
        "# play video\n",
        "agent.load_state_dict(torch.load(\"weights.pt\"))\n",
        "env = gnwrapper.LoopAnimation(gym.make('CartPole-v1'))\n",
        "state = env.reset()\n",
        "for _ in range(200):\n",
        "    with torch.no_grad():\n",
        "        output = agent.forward(torch.from_numpy(state).float().to(device)) # inference\n",
        "        prob_distribution = Categorical(output)\n",
        "        action = prob_distribution.sample() \n",
        "    env.render()\n",
        "    state, rew, done, _ = env.step(action.item())\n",
        "    if done:\n",
        "        state = env.reset()\n",
        "env.display()"
      ]
    }
  ],
  "metadata": {
    "accelerator": "GPU",
    "colab": {
      "provenance": []
    },
    "gpuClass": "standard",
    "kernelspec": {
      "display_name": "Python 3",
      "name": "python3"
    },
    "language_info": {
      "name": "python"
    }
  },
  "nbformat": 4,
  "nbformat_minor": 0
}
