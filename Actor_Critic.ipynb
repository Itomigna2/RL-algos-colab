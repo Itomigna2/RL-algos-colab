{
  "cells": [
    {
      "cell_type": "code",
      "execution_count": null,
      "metadata": {
        "id": "3w04_bU_4H9g"
      },
      "outputs": [],
      "source": [
        "import gym\n",
        "import torch\n",
        "import torch.nn as nn\n",
        "from torch.distributions import Categorical\n",
        "import matplotlib.pyplot as plt\n",
        "!pip install gym[classic_control]\n",
        "#pip install gym[box2d] #for lunarlander\n",
        "!apt update\n",
        "!apt install xvfb\n",
        "!pip install pyvirtualdisplay\n",
        "!pip install gym-notebook-wrapper\n",
        "import gnwrapper\n",
        "!nvidia-smi\n",
        "print(torch.cuda.is_available())"
      ]
    },
    {
      "cell_type": "code",
      "execution_count": null,
      "metadata": {
        "colab": {
          "base_uri": "https://localhost:8080/"
        },
        "id": "kWwb1Cd_gyJn",
        "outputId": "df702a7b-131a-4fdb-b83f-b20dd42d087a"
      },
      "outputs": [],
      "source": [
        "class Agent(nn.Module):\n",
        "    def __init__(self, input_dim, output_dim, width):\n",
        "        super().__init__()\n",
        "        self.P = PolicyNetwork(input_dim, output_dim, width)\n",
        "        self.P.to(device)\n",
        "        self.P.train()  \n",
        "        self.P_optimizer = torch.optim.Adam(self.P.parameters(), lr=0.0003)\n",
        "        self.V = ValueNetwork(input_dim, output_dim, width)\n",
        "        self.V.to(device)        \n",
        "        self.V.train()\n",
        "        self.V_optimizer = torch.optim.Adam(self.V.parameters(), lr=0.0003) \n",
        "        self.trajectory = []       \n",
        "        self.env = gym.make(game_name)        \n",
        "\n",
        "    def play_and_update_actor_critic(self):\n",
        "        game_score = 0\n",
        "        state = self.env.reset() \n",
        "        I = 1            \n",
        "        while True:\n",
        "            output = self.P(torch.from_numpy(state).float().to(device)) \n",
        "            inferenced_v = self.V(torch.from_numpy(state).float().to(device))\n",
        "            prob_distribution = Categorical(output) \n",
        "            action = prob_distribution.sample()\n",
        "            state, r, done, _ = self.env.step(action.item())   \n",
        "            gradient_policy_a_s = prob_distribution.log_prob(action)\n",
        "            with torch.no_grad():\n",
        "                inferenced_v_from_next_s = self.V(torch.from_numpy(state).float().to(device))\n",
        "            if done==True:\n",
        "                inferenced_v_from_next_s = 0\n",
        "            delta = r + 0.99*inferenced_v_from_next_s - inferenced_v\n",
        "            V_loss = -1 * I * delta.item() * inferenced_v               \n",
        "            self.V_optimizer.zero_grad()\n",
        "            V_loss.backward()\n",
        "            self.V_optimizer.step()\n",
        "            P_loss = -1 * I *  delta.item() * gradient_policy_a_s            \n",
        "            self.P_optimizer.zero_grad()\n",
        "            P_loss.backward()\n",
        "            self.P_optimizer.step() \n",
        "            I = 0.99 * I\n",
        "            game_score += r                 \n",
        "            if done:\n",
        "                break\n",
        "        return game_score\n",
        "\n",
        "class PolicyNetwork(nn.Module):  \n",
        "    def __init__(self, input_dim, output_dim, width):\n",
        "        super().__init__()\n",
        "        self.layer1 = torch.nn.Linear(input_dim, width)\n",
        "        self.layer2 = torch.nn.Linear(width, width) \n",
        "        self.layer3 = torch.nn.Linear(width, output_dim) \n",
        "\n",
        "    def forward(self, x):\n",
        "        x = self.layer1(x)\n",
        "        x = torch.nn.functional.relu(x)\n",
        "        x = self.layer2(x)\n",
        "        x = torch.nn.functional.relu(x)\n",
        "        x = self.layer3(x)\n",
        "        x = torch.nn.functional.softmax(x, dim=0)\n",
        "        return x\n",
        "\n",
        "class ValueNetwork(nn.Module): \n",
        "    def __init__(self, input_dim, output_dim, width):\n",
        "        super().__init__()\n",
        "        self.layer1 = torch.nn.Linear(input_dim, width)\n",
        "        self.layer2 = torch.nn.Linear(width, width) \n",
        "        self.layer3 = torch.nn.Linear(width, 1) \n",
        "\n",
        "    def forward(self, x):\n",
        "        x = self.layer1(x)\n",
        "        x = torch.nn.functional.relu(x)\n",
        "        x = self.layer2(x)\n",
        "        x = torch.nn.functional.relu(x)\n",
        "        x = self.layer3(x)\n",
        "        return x\n",
        "\n",
        "device = torch.device('cuda:0') if torch.cuda.is_available() else torch.device('cpu')\n",
        "score_arr = []\n",
        "game_name = 'CartPole-v1' #LunarLander-v2\n",
        "env = gym.make(game_name) \n",
        "agent = Agent(env.observation_space.shape[0], env.action_space.n, 128) \n",
        "print(agent)\n",
        "env.close()\n",
        "\n",
        "#Self play, weight update\n",
        "episode_nums = 500 #LunarLander-v2 1500\n",
        "for i in range(episode_nums):\n",
        "    game_score = agent.play_and_update_actor_critic()\n",
        "    score_arr.append(game_score)  \n",
        "    if i%50==0 : print('episode', i)    \n",
        "torch.save(agent.state_dict(), 'weights.pt') \n",
        "agent.env.close()"
      ]
    },
    {
      "cell_type": "code",
      "execution_count": null,
      "metadata": {
        "colab": {
          "base_uri": "https://localhost:8080/",
          "height": 283
        },
        "id": "_1Cz8LkVy4du",
        "outputId": "4bc27818-995a-42ad-c26c-1fc33ef49a66"
      },
      "outputs": [
        {
          "data": {
            "text/plain": [
              "<matplotlib.legend.Legend at 0x7f89b04cdbd0>"
            ]
          },
          "execution_count": 9,
          "metadata": {},
          "output_type": "execute_result"
        },
        {
          "data": {
            "image/png": "[encoded data removed]",
            "text/plain": [
              "<Figure size 432x288 with 1 Axes>"
            ]
          },
          "metadata": {
            "needs_background": "light"
          },
          "output_type": "display_data"
        }
      ],
      "source": [
        "#Score\n",
        "plt.plot(score_arr, label ='score')\n",
        "plt.legend(loc='upper left')"
      ]
    },
    {
      "cell_type": "code",
      "execution_count": null,
      "metadata": {
        "colab": {
          "base_uri": "https://localhost:8080/",
          "height": 982
        },
        "id": "KTGyfRFEzUHG",
        "outputId": "0c9a11de-cb61-48cb-a699-17898a0c6f36"
      },
      "outputs": [],
      "source": [
        "#play video\n",
        "agent.load_state_dict(torch.load(\"weights.pt\"))\n",
        "env = gnwrapper.LoopAnimation(gym.make(game_name)) \n",
        "state = env.reset()\n",
        "for _ in range(200):\n",
        "    with torch.no_grad():\n",
        "        output = agent.P(torch.from_numpy(state).float().to(device))\n",
        "        prob_distribution = Categorical(output) \n",
        "        action = prob_distribution.sample() \n",
        "    env.render()\n",
        "    state, rew, done, _ = env.step(action.item())\n",
        "    if done:\n",
        "        state = env.reset()\n",
        "env.display()"
      ]
    }
  ],
  "metadata": {
    "accelerator": "GPU",
    "colab": {
      "provenance": []
    },
    "gpuClass": "standard",
    "kernelspec": {
      "display_name": "Python 3",
      "name": "python3"
    },
    "language_info": {
      "name": "python"
    }
  },
  "nbformat": 4,
  "nbformat_minor": 0
}
